{
 "cells": [
  {
   "cell_type": "code",
   "execution_count": 5,
   "metadata": {},
   "outputs": [],
   "source": [
    "import os\n",
    "import django\n"
   ]
  },
  {
   "cell_type": "code",
   "execution_count": 6,
   "metadata": {},
   "outputs": [],
   "source": [
    "os.environ.setdefault('DJANGO_SETTINGS_MODULE', 'config.settings')\n",
    "django.setup()"
   ]
  },
  {
   "cell_type": "code",
   "execution_count": 9,
   "metadata": {},
   "outputs": [
    {
     "name": "stdout",
     "output_type": "stream",
     "text": [
      "new todo\n",
      "test\n"
     ]
    }
   ],
   "source": [
    "from todo.models import ToDo\n",
    "from asgiref.sync import sync_to_async\n",
    "\n",
    "async def fetch_todos():\n",
    "    todos = await sync_to_async(list)(ToDo.objects.all())\n",
    "    return todos\n",
    "\n",
    "# Test accessing the model\n",
    "todos = await fetch_todos()\n",
    "for todo in todos:\n",
    "    print(todo)"
   ]
  },
  {
   "cell_type": "code",
   "execution_count": null,
   "metadata": {},
   "outputs": [],
   "source": []
  }
 ],
 "metadata": {
  "kernelspec": {
   "display_name": "Python 3 (ipykernel)",
   "language": "python",
   "name": "python3"
  },
  "language_info": {
   "codemirror_mode": {
    "name": "ipython",
    "version": 3
   },
   "file_extension": ".py",
   "mimetype": "text/x-python",
   "name": "python",
   "nbconvert_exporter": "python",
   "pygments_lexer": "ipython3",
   "version": "3.12.3"
  }
 },
 "nbformat": 4,
 "nbformat_minor": 4
}
